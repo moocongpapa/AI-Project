{
 "cells": [
  {
   "cell_type": "markdown",
   "id": "c4c3e210-021c-4bdf-b0da-b57037801ca5",
   "metadata": {},
   "source": [
    "##### 참고 자료\n",
    "##### https://junsik-hwang.tistory.com/8"
   ]
  },
  {
   "cell_type": "markdown",
   "id": "ee1b6987-28e5-469c-9366-6d2960f93225",
   "metadata": {},
   "source": [
    "## 1표본 T검정\n",
    "##### 1표본 t검정은 모집단의 평균이 알려진 값과 다른지 여부를 테스트하는 데 사용되는 통계적 방법입니다\n",
    "##### 예를 들어, 10명의 성인의 평균 키가 6피트라고 알고 있다고 가정해 보겠습니다.\n",
    "##### 새로운 그룹의 10명의 성인의 키를 측정하고 이 그룹의 평균 키가 6피트와 다른지 확인하는 데 관심이 있습니다. 1표본 t검정을 사용하여 이를 수행할 수 있습니다."
   ]
  },
  {
   "cell_type": "code",
   "execution_count": 91,
   "id": "e9e0f11e-3b0b-45a7-8d48-a419f79ec84e",
   "metadata": {},
   "outputs": [],
   "source": [
    "import scipy.stats as stats\n",
    "import matplotlib.pyplot as plt\n",
    "import numpy as np"
   ]
  },
  {
   "cell_type": "markdown",
   "id": "df42a2d0-ae34-496c-9197-a9d169dbf036",
   "metadata": {},
   "source": [
    "### 정규성 검정"
   ]
  },
  {
   "cell_type": "code",
   "execution_count": 2,
   "id": "b87a90c8-0342-46d1-9b59-cf7ab3485003",
   "metadata": {},
   "outputs": [
    {
     "name": "stdout",
     "output_type": "stream",
     "text": [
      "귀무가설 : 데이터가 정규성을 따른다\n",
      "대립가설 : 데이터가 정규성을 따르지 않는다\n",
      "통계량: 0.9540719985961914\n",
      "p-value: 0.7167420983314514\n",
      "p 값이 0.05보다 크기 때문에 귀무 가설을 기각할 수 없다. 즉, 데이터는 정규 분포를 따른다고 가정할 수 있다.\n"
     ]
    }
   ],
   "source": [
    "data = [6.1, 6.2, 6.3, 6.4, 6.5, 6.7, 6.1, 6.3, 6.4, 6.6]\n",
    "\n",
    "print('귀무가설 : 데이터가 정규성을 따른다')\n",
    "print('대립가설 : 데이터가 정규성을 따르지 않는다')\n",
    "\n",
    "# 샤피로-윌크 검정을 수행합니다.\n",
    "if len(data) < 5000:\n",
    "    statistic, p_value = stats.shapiro(data)\n",
    "else:\n",
    "    statistic, p_value = stats.anderson(data, dist='norm')\n",
    "\n",
    "# 결과를 인쇄합니다.\n",
    "print(\"통계량:\", statistic)\n",
    "print(\"p-value:\", p_value)\n",
    "\n",
    "if p_value > 0.05:\n",
    "    print('p 값이 0.05보다 크기 때문에 귀무 가설을 기각할 수 없다. 즉, 데이터는 정규 분포를 따른다고 가정할 수 있다.')"
   ]
  },
  {
   "cell_type": "code",
   "execution_count": 3,
   "id": "17c33d58-827d-48f0-8738-6d1cac045338",
   "metadata": {},
   "outputs": [
    {
     "data": {
      "image/png": "[encoded data removed]",
      "text/plain": [
       "<Figure size 500x300 with 1 Axes>"
      ]
     },
     "metadata": {},
     "output_type": "display_data"
    }
   ],
   "source": [
    "plt.figure(figsize=(5,3))\n",
    "stats.probplot(data, dist=stats.norm, plot=plt)\n",
    "plt.show()"
   ]
  },
  {
   "cell_type": "markdown",
   "id": "0101058e-b3bb-492d-a7c1-617cabe28904",
   "metadata": {},
   "source": [
    "### 정규성 만족 할 경우 1표본 T검정"
   ]
  },
  {
   "cell_type": "code",
   "execution_count": 61,
   "id": "107e0e94-f1f5-431e-a7eb-f0298e6fb5b8",
   "metadata": {},
   "outputs": [
    {
     "name": "stdout",
     "output_type": "stream",
     "text": [
      "귀무가설 : 성인 10명의 평균 키 = 6.4\n",
      "귀무가설 : 성인 10명의 평균 키 != 6.4\n",
      "t = -101.26431522733726\n",
      "p = 4.531107006325378e-15\n",
      "p-value가 0.05보다 크기 때문에 귀무 가설을 기각할 수 없다. 즉, 데이터의 평균이 6.4가 아니라고 할 수 없다\n"
     ]
    }
   ],
   "source": [
    "print('귀무가설 : 성인 10명의 평균 키 = 6.4')\n",
    "print('귀무가설 : 성인 10명의 평균 키 != 6.4')\n",
    "\n",
    "# 모집단 평균 가정\n",
    "mu = 6.4\n",
    "\n",
    "# t_statistic = (np.mean(data) - mu) / stats.sem(data)\n",
    "# p_value = stats.ttest_1samp(data, mu).pvalue\n",
    "\n",
    "t_statistic, p_value = stats.ttest_1samp(data, mu)\n",
    "\n",
    "# 결과 인쇄\n",
    "print('t =', t_statistic)\n",
    "print('p =', p_value)\n",
    "print('p-value가 0.05보다 크기 때문에 귀무 가설을 기각할 수 없다. 즉, 데이터의 평균이 6.4가 아니라고 할 수 없다')"
   ]
  },
  {
   "cell_type": "markdown",
   "id": "1c3dbbbf-2ab7-4a84-ad86-f4e20c111799",
   "metadata": {},
   "source": [
    "### 모분산을 알 때, 모평균 검정"
   ]
  },
  {
   "cell_type": "code",
   "execution_count": 68,
   "id": "1e976dd4-207f-4a8f-adee-6973420a3f54",
   "metadata": {},
   "outputs": [
    {
     "name": "stdout",
     "output_type": "stream",
     "text": [
      "t-statistic: -12.853227404032296\n",
      "p-value: 7.948187097926125e-23\n"
     ]
    }
   ],
   "source": [
    "# 모평균을 초기화합니다.\n",
    "mu = 100\n",
    "\n",
    "# 모분산을 초기화합니다.\n",
    "sigma2 = 100\n",
    "\n",
    "# 표본 크기를 초기화합니다.\n",
    "n = 100\n",
    "\n",
    "# 데이터를 초기화합니다.\n",
    "data = np.random.normal(mu, sigma2, n)\n",
    "\n",
    "# t-통계량을 계산합니다.\n",
    "t_statistic = (data.mean() - mu) / np.sqrt(sigma2 / n)\n",
    "\n",
    "# p-값을 계산합니다.\n",
    "p_value = 2 * np.min(stats.t.cdf(t_statistic, n - 1))\n",
    "\n",
    "# 결과를 인쇄합니다.\n",
    "print('t-statistic:', t_statistic)\n",
    "print('p-value:', p_value)\n"
   ]
  },
  {
   "cell_type": "code",
   "execution_count": 78,
   "id": "2188b2ac-1530-408d-902a-7a5b477a3947",
   "metadata": {},
   "outputs": [
    {
     "name": "stdout",
     "output_type": "stream",
     "text": [
      "0.12744479428709163\n",
      "0.08225366322272008\n"
     ]
    }
   ],
   "source": [
    "# 자유도가 10인 Student t 분포의 확률 밀도 함수 값을 계산합니다.\n",
    "x = -1.5\n",
    "df = 10\n",
    "pdf = stats.t.pdf(x, df)\n",
    "cdf = stats.t.cdf(x, df)\n",
    "# 결과를 인쇄합니다.\n",
    "print(pdf)\n",
    "print(cdf)"
   ]
  },
  {
   "cell_type": "markdown",
   "id": "a665e2b5-193d-4eb3-81a6-00c742f12e5d",
   "metadata": {},
   "source": [
    "### 모평균을 알 때 모분산 검정"
   ]
  },
  {
   "cell_type": "code",
   "execution_count": 83,
   "id": "bfacfab6-7de4-470e-a687-d3862da1f16c",
   "metadata": {},
   "outputs": [
    {
     "name": "stdout",
     "output_type": "stream",
     "text": [
      "[10.58795763  9.02289604 14.01007876  9.17383987  8.92378955  8.05256456\n",
      " 11.38268468  9.24508698 15.25999346  7.92741728]\n",
      "F 통계량: 0.05617311207979941\n",
      "p-값: 0.9977580829127454\n",
      "귀무가설을 기각할 수 없습니다.\n"
     ]
    }
   ],
   "source": [
    "# 모평균을 알 때 모분산을 검정하는 함수\n",
    "def var_test(data, mu):\n",
    "    # 자유도 계산\n",
    "    n = len(data)\n",
    "    # 분산 계산\n",
    "    var = np.var(data)\n",
    "    # F 통계량 계산\n",
    "    f = var / mu**2\n",
    "    # p-값 계산\n",
    "    p = 1 - stats.f.cdf(f, n - 1, 1)\n",
    "\n",
    "    # 결과 출력\n",
    "    print(\"F 통계량:\", f)\n",
    "    print(\"p-값:\", p)\n",
    "\n",
    "    # 귀무가설 기각 여부\n",
    "    if p < 0.05:\n",
    "        print(\"귀무가설을 기각합니다.\")\n",
    "    else:\n",
    "        print(\"귀무가설을 기각할 수 없습니다.\")\n",
    "\n",
    "\n",
    "# 모평균을 10, 표준편차를 3, 표본 크기를 10으로 설정\n",
    "mu = 10\n",
    "sigma = 3\n",
    "n = 10\n",
    "\n",
    "# 데이터 생성\n",
    "data = np.random.normal(mu, sigma, n)\n",
    "print(data)\n",
    "# 모분산 검정\n",
    "var_test(data, mu)"
   ]
  },
  {
   "cell_type": "markdown",
   "id": "e49c3c8f-09ef-4ad8-9063-398393a58602",
   "metadata": {},
   "source": [
    "## 윌콕슨 순위검정 (대응 X) - 정규성 만족하지 않을 경우\n",
    "##### 윌콕슨 순위 검정은 두 개의 독립 표본의 평균이 동일한지 여부를 테스트하는 비모수 검정입니다. 이 검정은 두 개의 표본이 정규 분포를 따르지 않거나 분산이 같지 않은 경우에도 사용할 수 있습니다.\n",
    "##### 윌콕슨 순위 검정은 두 개의 표본의 모든 값을 정렬하고 각 값에 순위를 할당하여 수행됩니다. 그런 다음 각 표본의 양의 순위 합을 계산합니다. 귀무가설이 참이면 두 개의 양의 순위 합의 차이는 0이어야 합니다.\n",
    "##### p-값은 표본 크기와 양의 순위 합의 차이를 기반으로 계산됩니다. p-값이 유의 수준보다 작으면 귀무가설을 기각합니다."
   ]
  },
  {
   "cell_type": "code",
   "execution_count": 89,
   "id": "40ccb883-36a8-4f6e-bdc0-11d0a22bc8fe",
   "metadata": {},
   "outputs": [
    {
     "name": "stdout",
     "output_type": "stream",
     "text": [
      "w 통계량: 3.0\n",
      "p-값: 0.625\n",
      "귀무가설을 기각할 수 없습니다.\n"
     ]
    }
   ],
   "source": [
    "# 두 개의 독립 표본\n",
    "data1 = [1, 5, 6, 6]\n",
    "data2 = [5, 2, 7, 8]\n",
    "\n",
    "# 윌콕슨 순위 검정\n",
    "w, p = stats.wilcoxon(data1, data2)\n",
    "\n",
    "# 결과 출력\n",
    "print(\"w 통계량:\", w)\n",
    "print(\"p-값:\", p)\n",
    "\n",
    "# 귀무가설 기각 여부\n",
    "if p < 0.05:\n",
    "    print(\"귀무가설을 기각합니다.\")\n",
    "else:\n",
    "    print(\"귀무가설을 기각할 수 없습니다.\")"
   ]
  },
  {
   "cell_type": "markdown",
   "id": "dd67098e-5953-4450-8dda-1ab32f9476cf",
   "metadata": {
    "tags": []
   },
   "source": [
    "## 윌콕슨의 부호순위검정(대응) - 정규성 만족하지 않을 경우\n",
    "##### 윌콕슨 부호 순위 검정은 두 모집단 간의 위치 차이를 테스트하는 비모수 검정입니다. 두 개의 일치 표본이 있는 경우 또는 두 모집단 간의 위치 차이를 테스트하는 데 사용할 수 있습니다.\n",
    "##### 이 검정은 표본의 크기가 중요하지 않으며 정규성 가정을 하지 않습니다.\n",
    "##### 검정 통계량은 두 표본 간의 부호 순위의 합입니다. 부호 순위는 관찰값의 절대값에 따라 순위가 매겨지며 양수 또는 음수일 수 있습니다.\n",
    "##### 검정 통계량의 분포는 귀무가설이 참인 경우 자유도가 n-1인 Wilcoxon 부호 순위 분포를 따릅니다."
   ]
  },
  {
   "cell_type": "code",
   "execution_count": 93,
   "id": "3770d9d5-3fda-46ec-b06e-dccc0ad95ab5",
   "metadata": {},
   "outputs": [
    {
     "name": "stdout",
     "output_type": "stream",
     "text": [
      "검정 통계량: 745.0\n",
      "p-값: 9.344729313660313e-10\n"
     ]
    }
   ],
   "source": [
    "# 데이터 생성\n",
    "x = np.random.normal(0, 1, 100)\n",
    "y = np.random.normal(1, 1, 100)\n",
    "\n",
    "# 윌콕슨 부호 순위 검정\n",
    "w, p = stats.wilcoxon(x, y)\n",
    "\n",
    "# 결과 출력\n",
    "print('검정 통계량:', w)\n",
    "print('p-값:', p)"
   ]
  },
  {
   "cell_type": "markdown",
   "id": "633f898a-2d60-4466-b3df-22d8280603e7",
   "metadata": {},
   "source": [
    "## 부호 검정 (대응)\n",
    "##### 두 모집단의 분포가 동일한지 여부를 검정하는 비모수적 검정 방법입니다.\n",
    "##### 부호 검정은 +혹은 - 부호가 나올 확률 p를 0.5로 갖는 이항 부호 검정(Binominal sign test)이라고도 불립니다.\n",
    "##### 이 검정 방법은 관측치의 플러스와 마이너스 부호의 방향에 기반하며, 관측치의 수치에 기반하지 않습니다."
   ]
  },
  {
   "cell_type": "code",
   "execution_count": 124,
   "id": "36579b27-bd72-4877-ae7d-5efadb6bcc25",
   "metadata": {},
   "outputs": [
    {
     "name": "stdout",
     "output_type": "stream",
     "text": [
      "(2.5, 0.0625)\n"
     ]
    }
   ],
   "source": [
    "from statsmodels.stats.descriptivestats import sign_test\n",
    "\n",
    "# 두 표본을 정의합니다.\n",
    "group_a = [68, 69, 70, 71, 72]\n",
    "group_b = [65, 66, 67, 68, 69]\n",
    "\n",
    "# 부호 검정을 수행합니다.\n",
    "result = sign_test(group_a, group_b)\n",
    "\n",
    "# 결과를 인쇄합니다.\n",
    "print(result)\n",
    "\n",
    "# 결과는 다음과 같습니다.\n",
    "# (statistic=0.0, pvalue=0.5000000000000001)\n",
    "\n",
    "# p-값은 0.5000000000000001입니다. 즉, 부호 검정은 귀무가설을 기각할 수 없습니다."
   ]
  },
  {
   "cell_type": "markdown",
   "id": "42cc12f3-8e47-40ec-9c65-8bcaf032356c",
   "metadata": {},
   "source": [
    "## 크루스칼 월리스 검정 (대응 X)\n",
    "##### 독립 표본의 분포 중앙값이 같은지 여부를 테스트하는 비모수 검정입니다. 이 검정은 표본의 크기가 작거나 정규 분포가 아닌 데이터에 적합합니다.\n",
    "##### 크루스칼 월리스 검정은 귀무가설에 대해 관찰된 데이터보다 더 극단적인 데이터가 발생할 확률을 계산합니다.\n",
    "##### 귀무가설이 참이면 이 확률은 매우 낮아야 합니다. 확률이 유의 수준 미만이면 귀무가설을 기각하고 두 모집단의 중앙값이 다르다고 결론을 내립니다."
   ]
  },
  {
   "cell_type": "code",
   "execution_count": 109,
   "id": "9b8cea6e-ec4a-4d36-9c63-650b950c6549",
   "metadata": {},
   "outputs": [
    {
     "name": "stdout",
     "output_type": "stream",
     "text": [
      "p-value: KruskalResult(statistic=8.720000000000006, pvalue=0.012778387649535723)\n"
     ]
    }
   ],
   "source": [
    "from scipy.stats import kruskal\n",
    "\n",
    "# 데이터 준비\n",
    "data1 = [10, 15, 17, 19, 20]\n",
    "data2 = [2, 3, 5, 7, 9]\n",
    "data3 = [1, 4, 6, 8, 11]\n",
    "\n",
    "# 크루스칼 월리스 검정 수행\n",
    "p_value = kruskal(data1, data2, data3)\n",
    "\n",
    "# 결과 인쇄\n",
    "print('p-value:', p_value)"
   ]
  },
  {
   "cell_type": "markdown",
   "id": "4f9bd514-0de8-45de-a4cf-a8997d07e7fd",
   "metadata": {},
   "source": [
    "## 프리드먼 검정 (대응 - 여러무리)\n",
    "##### 반복 측정 ANOVA의 비모수 대안입니다. 동일한 피험자를 여러 번 테스트하여 여러 처리의 효과를 테스트하는 데 사용할 수 있습니다.\n",
    "##### 프리드먼 검정은 각 피험자에 대한 순위를 계산하여 작동합니다. 그런 다음 순위 값을 처리별로 평균하여 점수를 얻습니다.\n",
    "##### 마지막으로, 점수의 카이제곱 분포를 사용하여 귀무가설에 대해 관찰된 데이터보다 더 극단적인 데이터가 발생할 확률을 계산합니다.\n",
    "##### 귀무가설이 참이면 이 확률은 매우 낮아야 합니다. 확률이 유의 수준 미만이면 귀무가설을 기각하고 처리 사이에 차이가 있다고 결론을 내립니다."
   ]
  },
  {
   "cell_type": "code",
   "execution_count": 110,
   "id": "60b63080-e87f-4319-99a6-e14dd57109dc",
   "metadata": {},
   "outputs": [
    {
     "name": "stdout",
     "output_type": "stream",
     "text": [
      "p-value: FriedmanchisquareResult(statistic=8.400000000000006, pvalue=0.01499557682047766)\n"
     ]
    }
   ],
   "source": [
    "from scipy.stats import friedmanchisquare\n",
    "\n",
    "# 데이터 준비\n",
    "data = [[10, 15, 17, 19, 20], [2, 3, 5, 7, 9], [1, 4, 6, 8, 11]]\n",
    "\n",
    "# 프리드먼 검정 수행\n",
    "p_value = friedmanchisquare(data[0], data[1])\n",
    "\n",
    "# 결과 인쇄\n",
    "print('p-value:', p_value)"
   ]
  },
  {
   "cell_type": "markdown",
   "id": "d89d8cc3-56fc-4465-90a0-578afcfa2b2e",
   "metadata": {},
   "source": [
    "## 2표본 t검정\n",
    "##### 두 모집단의 평균이 같은지 여부를 테스트하는 데 사용되는 통계적 방법입니다.\n",
    "##### 예를 들어, 남성과 여성의 평균 키가 같은지 확인하려는 경우 2표본 t검정을 사용할 수 있습니다."
   ]
  },
  {
   "cell_type": "markdown",
   "id": "c5c7520c-7e8f-404a-99a6-b391c79efee7",
   "metadata": {},
   "source": [
    "## 독립2표본 t검정"
   ]
  },
  {
   "cell_type": "code",
   "execution_count": 115,
   "id": "b5ddca25-edad-433e-82ec-622742fc70b5",
   "metadata": {},
   "outputs": [],
   "source": [
    "import numpy as np\n",
    "import scipy.stats as stats\n",
    "\n",
    "# 데이터를 정의합니다.\n",
    "data1 = [6.1, 6.2, 6.3, 6.4, 6.5]\n",
    "data2 = [5.9, 5.8, 5.7, 5.6, 5.5, 5.9, 7.1]"
   ]
  },
  {
   "cell_type": "markdown",
   "id": "4c6c985a-2099-4006-b7c0-c2c8470ef6f4",
   "metadata": {},
   "source": [
    "### 정규성 검정"
   ]
  },
  {
   "cell_type": "code",
   "execution_count": 116,
   "id": "62f1f6e1-8c23-4aa1-bccf-736be1c19a29",
   "metadata": {},
   "outputs": [
    {
     "name": "stdout",
     "output_type": "stream",
     "text": [
      "귀무가설 : 데이터가 정규성을 따른다\n",
      "대립가설 : 데이터가 정규성을 따르지 않는다\n",
      "통계량: 0.9867621660232544 0.7182680368423462\n",
      "p-value: 0.9671739339828491 0.005847558844834566\n",
      "p 값이 0.05보다 크기 때문에 귀무 가설을 기각할 수 없다. 즉, 데이터는 정규성을 따른다고 가정할 수 있다.\n",
      "p값이 0.05보다 작기 때문에 귀무 가설을 기각한다. 즉, 데이터는 정규성을 따른다고 할 수 없다.\n"
     ]
    }
   ],
   "source": [
    "print('귀무가설 : 데이터가 정규성을 따른다')\n",
    "print('대립가설 : 데이터가 정규성을 따르지 않는다')\n",
    "\n",
    "# 샤피로-윌크 검정을 수행합니다.\n",
    "if len(data1) < 5000: statistic1, p_value1 = stats.shapiro(data1)\n",
    "else: statistic1, p_value1 = stats.anderson(data1, dist='norm')\n",
    "\n",
    "if len(data2) < 5000: statistic2, p_value2 = stats.shapiro(data2)\n",
    "else: statistic2, p_value2 = stats.anderson(data2, dist='norm')\n",
    "\n",
    "# 결과를 인쇄합니다.\n",
    "print(\"통계량:\", statistic1, statistic2)\n",
    "print(\"p-value:\", p_value1, p_value2)\n",
    "\n",
    "if p_value1 > 0.05: print('p 값이 0.05보다 크기 때문에 귀무 가설을 기각할 수 없다. 즉, 데이터는 정규성을 따른다고 가정할 수 있다.')\n",
    "else: print('p값이 0.05보다 작기 때문에 귀무 가설을 기각한다. 즉, 데이터는 정규성을 따른다고 할 수 없다.')\n",
    "if p_value2 > 0.05: print('p 값이 0.05보다 크기 때문에 귀무 가설을 기각할 수 없다. 즉, 데이터는 정규성을 따른다고 가정할 수 있다.')\n",
    "else: print('p값이 0.05보다 작기 때문에 귀무 가설을 기각한다. 즉, 데이터는 정규성을 따른다고 할 수 없다.')"
   ]
  },
  {
   "cell_type": "code",
   "execution_count": 117,
   "id": "fe2bac8d-be7b-466e-8458-2b75205795da",
   "metadata": {},
   "outputs": [
    {
     "data": {
      "image/png": "[encoded data removed]",
      "text/plain": [
       "<Figure size 500x300 with 1 Axes>"
      ]
     },
     "metadata": {},
     "output_type": "display_data"
    }
   ],
   "source": [
    "plt.figure(figsize=(5,3))\n",
    "stats.probplot(data1, dist=stats.norm, plot=plt)\n",
    "plt.show()"
   ]
  },
  {
   "cell_type": "code",
   "execution_count": 118,
   "id": "01a26749-6968-4bdd-b118-59459c6bf0d1",
   "metadata": {},
   "outputs": [
    {
     "data": {
      "image/png": "[encoded data removed]",
      "text/plain": [
       "<Figure size 500x300 with 1 Axes>"
      ]
     },
     "metadata": {},
     "output_type": "display_data"
    }
   ],
   "source": [
    "plt.figure(figsize=(5,3))\n",
    "stats.probplot(data2, dist=stats.norm, plot=plt)\n",
    "plt.show()"
   ]
  },
  {
   "cell_type": "markdown",
   "id": "3d4fdc4f-653f-4e28-90b0-6425f984a11a",
   "metadata": {},
   "source": [
    "### 등분산 검정"
   ]
  },
  {
   "cell_type": "code",
   "execution_count": 119,
   "id": "c68bb28f-cca2-45f2-bc3d-0e155ee1f925",
   "metadata": {},
   "outputs": [
    {
     "name": "stdout",
     "output_type": "stream",
     "text": [
      "귀무가설 : 두 데이터의 분산이 같다\n",
      "대립가설 : 두 데이터의 분산이 같지 않다\n",
      "통계량: 0.7572115384615388\n",
      "p-value: 0.404606670016705\n",
      "p 값이 0.05보다 크기 때문에 귀무 가설을 기각할 수 없다. 즉, 두 데이터 그룹은 분산이 다르다고 할 수 없다\n"
     ]
    }
   ],
   "source": [
    "print('귀무가설 : 두 데이터의 분산이 같다')\n",
    "print('대립가설 : 두 데이터의 분산이 같지 않다')\n",
    "\n",
    "statistic, p_value = stats.levene(data1, data2)\n",
    "# statistic, p_value = stats.bartlett(data1, data2)\n",
    "print(\"통계량:\", statistic)\n",
    "print(\"p-value:\", p_value)\n",
    "\n",
    "if p_value > 0.05:\n",
    "    print('p 값이 0.05보다 크기 때문에 귀무 가설을 기각할 수 없다. 즉, 두 데이터 그룹은 분산이 다르다고 할 수 없다')\n",
    "else:\n",
    "    print('p 값이 0.05보다 작기 때문에 귀무 가설을 기각한다. 즉, 두 데이터 그룹은 분산은 같다고 할 수 없다')"
   ]
  },
  {
   "cell_type": "markdown",
   "id": "9317f2df-827b-447e-873c-b143e5d16cf8",
   "metadata": {},
   "source": [
    "## 정규성 따를 때 독립 2표본 T검정"
   ]
  },
  {
   "cell_type": "code",
   "execution_count": 122,
   "id": "b8d550e4-9718-47f7-9a40-98f21868aa0d",
   "metadata": {},
   "outputs": [
    {
     "name": "stdout",
     "output_type": "stream",
     "text": [
      "귀무가설 : 두 데이터의 평균이 같다\n",
      "대립가설 : 두 데이터의 평균이 다르다\n",
      "data1 mean 6.3\n",
      "data2 mean 5.928571428571429\n",
      "t통계량: 1.481102841886769\n",
      "p값: 0.404606670016705\n",
      "p값이 0.05보다 크기 때문에 귀무가설 기각, 즉 두 데이터의 평균은 같다고 할 수 없음\n"
     ]
    }
   ],
   "source": [
    "print('귀무가설 : 두 데이터의 평균이 같다')\n",
    "print('대립가설 : 두 데이터의 평균이 다르다')\n",
    "print('data1 mean', np.mean(data1))\n",
    "print('data2 mean', np.mean(data2))\n",
    "\n",
    "# t통계량을 계산합니다.\n",
    "t, pvalue = stats.ttest_ind(data1, data2, equal_var=True)\n",
    "# t, pvalue = stats.ttest_ind(data1, data2, equal_var=False)\n",
    "\n",
    "# 결과를 인쇄합니다.\n",
    "print('t통계량:', t)\n",
    "print('p값:', p_value)\n",
    "\n",
    "if p_value > 0.05: print('p값이 0.05보다 크기 때문에 귀무가설 기각, 즉 두 데이터의 평균은 같다고 할 수 없음')\n",
    "else: print('p값이 0.05보다 작기 때문에 귀무가설 기각 할 수 없음, 즉 두 데이터의 평균은 다르다고 할 수 없음')"
   ]
  },
  {
   "cell_type": "markdown",
   "id": "e287c3cb-6a11-4c5f-be9c-77ce19a83a61",
   "metadata": {},
   "source": [
    "## 윌콕슨의 순위합 검정 (정규성 안따를 때)"
   ]
  },
  {
   "cell_type": "code",
   "execution_count": 23,
   "id": "467d319d-4643-40ab-8ab2-dca8349617fc",
   "metadata": {},
   "outputs": [
    {
     "name": "stdout",
     "output_type": "stream",
     "text": [
      "t통계량: 2.029994857352875\n",
      "p값: 0.042357062026854894\n",
      "p값이 0.05보다 작기 때문에 귀무가설 기각 할 수 없음, 즉 두 데이터의 평균은 다르다고 할 수 없음\n"
     ]
    }
   ],
   "source": [
    "# 정규성 따르지 않을 때 (윌콕슨의 순위합 검정)\n",
    "t, p_value = stats.ranksums(data1, data2)\n",
    "\n",
    "# 결과를 인쇄합니다.\n",
    "print('t통계량:', t)\n",
    "print('p값:', p_value)\n",
    "\n",
    "if p_value > 0.05: print('p값이 0.05보다 크기 때문에 귀무가설 기각, 즉 두 데이터의 평균은 같다고 할 수 없음')\n",
    "else: print('p값이 0.05보다 작기 때문에 귀무가설 기각 할 수 없음, 즉 두 데이터의 평균은 다르다고 할 수 없음')"
   ]
  },
  {
   "cell_type": "markdown",
   "id": "8f06f178-2293-4ed3-9eb1-3a23b5c206e8",
   "metadata": {},
   "source": [
    "## ttest_ind 함수 안쓰고 구하는 방법"
   ]
  },
  {
   "cell_type": "code",
   "execution_count": 58,
   "id": "768e1fd5-fea0-43a8-be24-be19bc62f1a8",
   "metadata": {},
   "outputs": [
    {
     "name": "stdout",
     "output_type": "stream",
     "text": [
      "t-statistic: -11.180339887498949\n",
      "p-value: 3.668914712980753e-06\n"
     ]
    }
   ],
   "source": [
    "import numpy as np\n",
    "\n",
    "# 두 그룹의 데이터를 초기화합니다.\n",
    "group1 = np.array([1, 2, 3, 4, 5])\n",
    "group2 = np.array([6, 7, 8, 9, 10])\n",
    "\n",
    "# 자유도를 계산합니다.\n",
    "df = len(group1) + len(group2) - 2\n",
    "\n",
    "# 그룹의 분산을 계산합니다.\n",
    "s1_sq = np.var(group1)\n",
    "s2_sq = np.var(group2)\n",
    "\n",
    "# 분산의 분산을 계산합니다.\n",
    "s_p_sq = (s1_sq + s2_sq) / df\n",
    "\n",
    "# t-통계량을 계산합니다.\n",
    "t_statistic = (group1.mean() - group2.mean()) / np.sqrt(s_p_sq * (1 / len(group1) + 1 / len(group2)))\n",
    "\n",
    "# p-값을 계산합니다.\n",
    "p_value = 2 * np.min(stats.t.cdf(t_statistic, df))\n",
    "\n",
    "# 결과를 인쇄합니다.\n",
    "print('t-statistic:', t_statistic)\n",
    "print('p-value:', p_value)"
   ]
  },
  {
   "cell_type": "markdown",
   "id": "a5c2694f-5b88-4c92-b7fa-74184161ab3d",
   "metadata": {},
   "source": [
    "## 대응 2표본 검정"
   ]
  },
  {
   "cell_type": "code",
   "execution_count": 40,
   "id": "5fe5b2c2-d621-49db-a0ef-6afc2dbeb864",
   "metadata": {},
   "outputs": [],
   "source": [
    "import scipy.stats as stats\n",
    "\n",
    "# 데이터를 정의합니다.\n",
    "before = [10, 12, 14, 16, 18]\n",
    "after = [12, 14, 16, 18, 25]"
   ]
  },
  {
   "cell_type": "code",
   "execution_count": 41,
   "id": "c90a8dc8-55a3-4e1a-82d4-d9b9a89de8a4",
   "metadata": {},
   "outputs": [
    {
     "name": "stdout",
     "output_type": "stream",
     "text": [
      "귀무가설 : 데이터가 정규성을 따른다\n",
      "대립가설 : 데이터가 정규성을 따르지 않는다\n",
      "통계량: 0.9867621660232544 0.9227042198181152\n",
      "p-value: 0.9671739339828491 0.5475331544876099\n",
      "p 값이 0.05보다 크기 때문에 귀무 가설을 기각할 수 없다. 즉, 데이터는 정규성을 따른다고 할 수 있다.\n",
      "p 값이 0.05보다 크기 때문에 귀무 가설을 기각할 수 없다. 즉, 데이터는 정규성을 따른다고 할 수 있다.\n"
     ]
    }
   ],
   "source": [
    "print('귀무가설 : 데이터가 정규성을 따른다')\n",
    "print('대립가설 : 데이터가 정규성을 따르지 않는다')\n",
    "\n",
    "# 샤피로-윌크 검정을 수행합니다.\n",
    "if len(before) < 5000: statistic1, p_value1 = stats.shapiro(before)\n",
    "else: statistic1, p_value1 = stats.anderson(before, dist='norm')\n",
    "\n",
    "if len(after) < 5000: statistic2, p_value2 = stats.shapiro(after)\n",
    "else: statistic2, p_value2 = stats.anderson(after, dist='norm')\n",
    "\n",
    "# 결과를 인쇄합니다.\n",
    "print(\"통계량:\", statistic1, statistic2)\n",
    "print(\"p-value:\", p_value1, p_value2)\n",
    "\n",
    "if p_value1 > 0.05: print('p 값이 0.05보다 크기 때문에 귀무 가설을 기각할 수 없다. 즉, 데이터는 정규성을 따른다고 할 수 있다.')\n",
    "else: print('p값이 0.05보다 작기 때문에 귀무 가설을 기각한다. 즉, 데이터는 정규성을 따른다고 할 수 없다.')\n",
    "if p_value2 > 0.05: print('p 값이 0.05보다 크기 때문에 귀무 가설을 기각할 수 없다. 즉, 데이터는 정규성을 따른다고 할 수 있다.')\n",
    "else: print('p값이 0.05보다 작기 때문에 귀무 가설을 기각한다. 즉, 데이터는 정규성을 따른다고 할 수 없다.')"
   ]
  },
  {
   "cell_type": "code",
   "execution_count": 42,
   "id": "fd44983b-7e90-4816-a14d-04f8b4c1eeec",
   "metadata": {},
   "outputs": [
    {
     "data": {
      "image/png": "[encoded data removed]",
      "text/plain": [
       "<Figure size 500x300 with 1 Axes>"
      ]
     },
     "metadata": {},
     "output_type": "display_data"
    }
   ],
   "source": [
    "plt.figure(figsize=(5,3))\n",
    "stats.probplot(before, dist=stats.norm, plot=plt)\n",
    "stats.probplot(after, dist=stats.norm, plot=plt)\n",
    "plt.show()"
   ]
  },
  {
   "cell_type": "code",
   "execution_count": 44,
   "id": "74184978-2431-4184-88c9-e1dae9289f48",
   "metadata": {},
   "outputs": [
    {
     "name": "stdout",
     "output_type": "stream",
     "text": [
      "귀무가설 : 사전평균 사후평균이 같다\n",
      "대립가설 : 사전평균과 사후평균 다르다\n",
      "t-statistic: -3.0\n",
      "p-value: 0.03994196807171883\n",
      "p 값이 0.05보다 작기 때문에 귀무가설을 기각. 즉 사전평균과 사후평균이 같다고 할 수 없음\n"
     ]
    }
   ],
   "source": [
    "print('귀무가설 : 사전평균 사후평균이 같다')\n",
    "print('대립가설 : 사전평균과 사후평균 다르다')\n",
    "\n",
    "# 대응 2표본 t-검정을 수행합니다.\n",
    "t_statistic, p_value = stats.ttest_rel(before, after)\n",
    "\n",
    "# 결과를 인쇄합니다.\n",
    "print(\"t-statistic:\", t_statistic)\n",
    "print(\"p-value:\", p_value)\n",
    "\n",
    "if p_value > 0.05: print('p 값이 0.05보다 크기 때문에 귀무가설을 기각할 수 없다. 즉 사전평균과 사후평균이 다르다고 할 수 없음')\n",
    "else: print('p 값이 0.05보다 작기 때문에 귀무가설을 기각. 즉 사전평균과 사후평균이 같다고 할 수 없음')"
   ]
  },
  {
   "cell_type": "markdown",
   "id": "2227ff07-715d-4f43-bcf7-2e9def1d5599",
   "metadata": {},
   "source": [
    "## 맨 휘트니 U 검정 (독립 2표본 검정, 비모수)\n",
    "##### 맨-휘트니 U 검정은 독립 표본의 중앙값이 같은지 여부를 테스트하는 비모수 검정입니다. 이 검정은 표본의 크기가 작거나 정규 분포가 아닌 데이터에 적합합니다.\n",
    "##### 맨-휘트니 U 검정은 귀무가설에 대해 관찰된 데이터보다 더 극단적인 데이터가 발생할 확률을 계산합니다.\n",
    "##### 귀무가설이 참이면 이 확률은 매우 낮아야 합니다. 확률이 유의 수준 미만이면 귀무가설을 기각하고 두 모집단의 중앙값이 다르다고 결론을 내립니다."
   ]
  },
  {
   "cell_type": "code",
   "execution_count": 108,
   "id": "e9a52578-2ae4-4319-a673-fae06ac7c431",
   "metadata": {},
   "outputs": [
    {
     "name": "stdout",
     "output_type": "stream",
     "text": [
      "p-value: MannwhitneyuResult(statistic=25.0, pvalue=0.007936507936507936)\n"
     ]
    }
   ],
   "source": [
    "from scipy.stats import mannwhitneyu\n",
    "\n",
    "# 데이터 준비\n",
    "data1 = [10, 15, 17, 19, 20]\n",
    "data2 = [2, 3, 5, 7, 9]\n",
    "\n",
    "# 맨-휘트니 U 검정 수행\n",
    "p_value = mannwhitneyu(data1, data2)\n",
    "\n",
    "# 결과 인쇄\n",
    "print('p-value:', p_value)"
   ]
  },
  {
   "cell_type": "markdown",
   "id": "d356a15c-eca3-4141-97a1-fe55609505da",
   "metadata": {},
   "source": [
    "## 적합도 검정\n",
    "\n",
    "##### 적합도 검정은 표본의 관측된 도수분포가 특정 이론적 분포와 일치하는지 여부를 검정\n",
    "##### 적합도 검정의 검정통계량은 카이제곱 통계량입니다. 카이제곱 통계량은 관측된 도수와 기대되는 도수의 차이의 제곱합입니다. 카이제곱 통계량이 임계값보다 크면 귀무가설을 기각합니다.\n",
    "##### 적합도 검정은 다음과 같은 다양한 상황에서 사용할 수 있습니다.\n",
    "##### 모집단의 분포가 특정 이론적 분포를 따르는지 여부를 검정합니다.\n",
    "##### 두 모집단의 분포가 동일한지 여부를 검정합니다.\n",
    "##### 세 개 이상의 모집단의 분포가 동일한지 여부를 검정합니다"
   ]
  },
  {
   "cell_type": "code",
   "execution_count": 99,
   "id": "fcac074d-2510-4698-ab44-2afd4247d1b6",
   "metadata": {},
   "outputs": [
    {
     "name": "stdout",
     "output_type": "stream",
     "text": [
      "귀무가설 : 귀무가설은 표본의 관측된 도수분포가 이론적 분포와 일치\n",
      "대립가설 : 귀무가설은 표본의 관측된 도수분포가 이론적 분포와 일치 X\n",
      "20.0\n",
      "0.00016974243555282632\n"
     ]
    }
   ],
   "source": [
    "import scipy.stats as stats\n",
    "\n",
    "print('귀무가설 : 귀무가설은 표본의 관측된 도수분포가 이론적 분포와 일치')\n",
    "print('대립가설 : 귀무가설은 표본의 관측된 도수분포가 이론적 분포와 일치 X')\n",
    "\n",
    "# 관측 데이터\n",
    "observed = [10, 20, 30, 40]\n",
    "# 기대 데이터\n",
    "expected = [25, 25, 25, 25]\n",
    "# 카이제곱 검정\n",
    "chi2, pvalue = stats.chisquare(observed, expected)\n",
    "# 결과\n",
    "print(chi2)\n",
    "print(pvalue)\n",
    "# p값이 0.1353319082969765보다 크므로 귀무가설을 기각할 수 없습니다. 즉, 관측 데이터와 기대 데이터 사이에는 유의미한 차이가 없습니다."
   ]
  },
  {
   "cell_type": "markdown",
   "id": "0a032111-de55-4ca6-b832-0e104f2bd311",
   "metadata": {},
   "source": [
    "## 독립성 검정"
   ]
  },
  {
   "cell_type": "markdown",
   "id": "3f9da1df-95c6-4cc2-a2b5-d783e4840420",
   "metadata": {
    "tags": []
   },
   "source": [
    "##### 독립성 검정은 두 변수가 관련되어 있는지 여부를 확인하는 통계적 방법입니다.\n",
    "##### 두 변수는 범주형 또는 명목형일 수 있습니다. 검정은 두 변수가 독립적이라는 가정 하에 수행되며, 이는 두 변수가 서로 영향을 미치지 않는다는 것을 의미합니다.\n",
    "##### 독립성 검정은 카이제곱 검정을 사용하여 수행됩니다. 카이제곱 통계량은 관측된 빈도와 기대 빈도 사이의 차이를 측정합니다. 카이제곱 통계량이 크면 두 변수가 독립적이지 않을 가능성이 높습니다."
   ]
  },
  {
   "cell_type": "code",
   "execution_count": 57,
   "id": "ee46434e-40d2-4635-93da-9712c06c8618",
   "metadata": {},
   "outputs": [
    {
     "name": "stdout",
     "output_type": "stream",
     "text": [
      "chi-square: 8.279843658458306\n",
      "p-value: 0.01592409625473879\n",
      "dof: 2\n",
      "expected: [[347.5  79.  236.5]\n",
      " [347.5  79.  236.5]]\n",
      "귀무가설을 기각합니다. 두 변수 사이에는 유의미한 관계가 있습니다.\n"
     ]
    }
   ],
   "source": [
    "import scipy.stats as stats\n",
    "\n",
    "# 데이터를 정의합니다.\n",
    "gender = ['male', 'female']\n",
    "education = ['high school', 'college', 'graduate school']\n",
    "\n",
    "# 빈도표를 만듭니다.\n",
    "table = [[324, 78, 261], [371, 80, 212]]\n",
    "\n",
    "# 카이제곱 검정을 수행합니다.\n",
    "chi_square, p_value, dof, expected = stats.chi2_contingency(table)\n",
    "\n",
    "# 결과를 인쇄합니다.\n",
    "print(\"chi-square:\", chi_square)\n",
    "print(\"p-value:\", p_value)\n",
    "print(\"dof:\", dof)\n",
    "print(\"expected:\", expected)\n",
    "\n",
    "if p_value < 0.05: print('귀무가설을 기각합니다. 두 변수 사이에는 유의미한 관계가 있습니다.')\n",
    "else: print('귀무가설을 기각할 수 없습니다. 두 변수 사이에는 유의미한 관계가 없습니다.')"
   ]
  },
  {
   "cell_type": "code",
   "execution_count": 56,
   "id": "871b74c2-a71e-42e7-82ee-b65162c41185",
   "metadata": {},
   "outputs": [
    {
     "name": "stdout",
     "output_type": "stream",
     "text": [
      "귀무가설 : 두 변수는 독립\n",
      "귀무가설 : 두 변수는 독립이 아니다\n",
      "카이제곱 통계량: 46.28327521484784\n",
      "p값: 0.14090216150933615\n",
      "귀무가설을 기각할 수 없습니다. 두 변수 사이에는 유의미한 관계가 없습니다.\n"
     ]
    }
   ],
   "source": [
    "import pandas as pd\n",
    "import numpy as np\n",
    "\n",
    "print('귀무가설 : 두 변수는 독립')\n",
    "print('귀무가설 : 두 변수는 독립이 아니다')\n",
    "\n",
    "# 데이터 프레임 생성\n",
    "df = pd.DataFrame({'성별': np.random.choice(['남성', '여성'], size=100),\n",
    "                    '연령': np.random.randint(18, 60, size=100)})\n",
    "# 독립성 검정 수행\n",
    "from scipy.stats import chi2_contingency\n",
    "\n",
    "chi2_result = chi2_contingency(pd.crosstab(df['성별'], df['연령']))\n",
    "\n",
    "# 결과 출력\n",
    "print('카이제곱 통계량: {}'.format(chi2_result[0]))\n",
    "print('p값: {}'.format(chi2_result[1]))\n",
    "\n",
    "# 해석\n",
    "if chi2_result[1] < 0.05: print('귀무가설을 기각합니다. 두 변수 사이에는 유의미한 관계가 있습니다.')\n",
    "else: print('귀무가설을 기각할 수 없습니다. 두 변수 사이에는 유의미한 관계가 없습니다.')"
   ]
  },
  {
   "cell_type": "markdown",
   "id": "df890bdb-3b78-4b5b-9347-ae72e735d4a5",
   "metadata": {},
   "source": [
    "## 비모수 독립성 검정\n",
    "### 피셔의 정확검정\n",
    "##### 피셔 정확검정은 두 범주형 변수 간의 관계를 테스트하는 비모수 검정입니다. 이 검정은 표본 크기가 작거나 기대 빈도가 5 미만인 셀이 있는 데이터에 적합합니다.\n",
    "##### 피셔 정확검정은 귀무가설에 대해 관찰된 데이터보다 더 극단적인 데이터가 발생할 확률을 계산합니다. 귀무가설이 참이면 이 확률은 매우 낮아야 합니다.\n",
    "##### 확률이 유의 수준 미만이면 귀무가설을 기각하고 두 변수 사이에 관계가 있다고 결론을 내립니다."
   ]
  },
  {
   "cell_type": "code",
   "execution_count": 100,
   "id": "2441c2ea-47d1-4c86-91c7-31e9930a309c",
   "metadata": {},
   "outputs": [
    {
     "name": "stdout",
     "output_type": "stream",
     "text": [
      "p-value: (0.8333333333333334, 0.8036278345523921)\n"
     ]
    }
   ],
   "source": [
    "from scipy.stats import fisher_exact\n",
    "\n",
    "# 데이터 준비\n",
    "data = [[10, 15], [20, 25]]\n",
    "\n",
    "# 피셔 정확검정 수행\n",
    "p_value = fisher_exact(data)\n",
    "\n",
    "# 결과 인쇄\n",
    "print('p-value:', p_value)"
   ]
  },
  {
   "cell_type": "markdown",
   "id": "f95f0181-7367-4a0b-a11a-f5e6c5e3c905",
   "metadata": {},
   "source": [
    "## 맥니머 검정 (대응 표본)\n",
    "##### 맥니머 검정은 2x2 분할표에서 두 범주형 변수 간의 차이를 테스트하는 비모수 검정입니다. 이 검정은 표본 크기가 작거나 기대 빈도가 5 미만인 셀이 있는 데이터에 적합합니다.\n",
    "##### 맥니머 검정은 귀무가설에 대해 관찰된 데이터보다 더 극단적인 데이터가 발생할 확률을 계산합니다. 귀무가설이 참이면 이 확률은 매우 낮아야 합니다.\n",
    "##### 확률이 유의 수준 미만이면 귀무가설을 기각하고 두 변수 사이에 차이가 있다고 결론을 내립니다."
   ]
  },
  {
   "cell_type": "code",
   "execution_count": 102,
   "id": "4bca8da3-976d-458b-bdb5-6a5602755c68",
   "metadata": {},
   "outputs": [
    {
     "name": "stdout",
     "output_type": "stream",
     "text": [
      "p-value: pvalue      0.4995598332025112\n",
      "statistic   15.0\n"
     ]
    }
   ],
   "source": [
    "from statsmodels.stats.contingency_tables import mcnemar\n",
    "\n",
    "# 데이터 준비\n",
    "data = [[10, 15], [20, 25]]\n",
    "\n",
    "# 맥니머 검정 수행\n",
    "p_value = mcnemar(data)\n",
    "\n",
    "# 결과 인쇄\n",
    "print('p-value:', p_value)"
   ]
  },
  {
   "cell_type": "markdown",
   "id": "2ff39a98-eb2e-48be-8b93-ae7ed54b5dd4",
   "metadata": {},
   "source": [
    "## 코크란Q검정 (대응 표본 3개 이상)\n",
    "##### 코크란 Q 검정은 세 개 이상의 범주형 변수 간의 차이를 테스트하는 비모수 검정입니다. 이 검정은 표본 크기가 작거나 기대 빈도가 5 미만인 셀이 있는 데이터에 적합합니다.\n",
    "##### 코크란 Q 검정은 귀무가설에 대해 관찰된 데이터보다 더 극단적인 데이터가 발생할 확률을 계산합니다.\n",
    "##### 귀무가설이 참이면 이 확률은 매우 낮아야 합니다. 확률이 유의 수준 미만이면 귀무가설을 기각하고 세 변수 사이에 차이가 있다고 결론을 내립니다."
   ]
  },
  {
   "cell_type": "code",
   "execution_count": 107,
   "id": "8e86d32c-3fa6-4809-b892-cb811a33af0a",
   "metadata": {},
   "outputs": [
    {
     "name": "stdout",
     "output_type": "stream",
     "text": [
      "p-value: df          1\n",
      "pvalue      0.31731050786291115\n",
      "statistic   1.0\n"
     ]
    }
   ],
   "source": [
    "from statsmodels.stats.contingency_tables import cochrans_q\n",
    "\n",
    "# 데이터 준비\n",
    "data = [[10, 15], [20, 25], [30, 35]]\n",
    "\n",
    "# 코크란 Q 검정 수행\n",
    "p_value = cochrans_q(data)\n",
    "\n",
    "# 결과 인쇄\n",
    "print('p-value:', p_value)"
   ]
  },
  {
   "cell_type": "markdown",
   "id": "a6a5422c-23c7-4561-8f0c-e41cd17e5ef3",
   "metadata": {
    "tags": []
   },
   "source": [
    "## 일원배치 분산 분석(ANOVA)\n",
    "##### 여러 모집단의 평균이 모두 같은지 여부를 테스트하는 데 사용되는 통계적 방법입니다.\n",
    "##### 예를 들어, 세 가지 다른 약물의 효과를 테스트하고 각 약물의 효능이 동일한지 확인하려는 경우 일원 분산 분석을 사용할 수 있습니다."
   ]
  },
  {
   "cell_type": "code",
   "execution_count": 127,
   "id": "baccb5e8-f9ae-40ea-bda3-0ba3aed178e2",
   "metadata": {},
   "outputs": [
    {
     "name": "stdout",
     "output_type": "stream",
     "text": [
      "귀무가설 : 세 그룹의 평균이 같다\n",
      "대립가설 : 세 그룹의 평균이 다르다\n",
      "F통계량: 20.666666666666636\n",
      "p값: 0.00012974633789062588\n",
      "귀무가설 기각. 즉 세 그룹의 평균이 같다고 할 수 없음\n"
     ]
    }
   ],
   "source": [
    "import numpy as np\n",
    "import scipy.stats as stats\n",
    "\n",
    "# 데이터를 정의합니다.\n",
    "data1 = [6.1, 6.2, 6.3, 6.4, 6.5]\n",
    "data2 = [5.9, 5.8, 5.7, 5.6, 5.5]\n",
    "data3 = [6.0, 6.1, 6.2, 6.3, 6.4]\n",
    "\n",
    "print('귀무가설 : 세 그룹의 평균이 같다')\n",
    "print('대립가설 : 세 그룹의 평균이 다르다')\n",
    "\n",
    "# F통계량과 p값을 계산합니다.\n",
    "f, pvalue = stats.f_oneway(data1, data2, data3)\n",
    "\n",
    "# 결과를 인쇄합니다.\n",
    "print('F통계량:', f)\n",
    "print('p값:', pvalue)\n",
    "\n",
    "if pvalue > 0.05: print('귀무가설 기각 할 수 없음. 즉 세 그룹의 평균이 다르다고 할 수 없음')\n",
    "else: print('귀무가설 기각. 즉 세 그룹의 평균이 같다고 할 수 없음')"
   ]
  },
  {
   "cell_type": "markdown",
   "id": "9086c854-4adc-41aa-8a3a-6e3a3498035e",
   "metadata": {},
   "source": [
    "## 이원배치 분산분석\n",
    "##### 이원 배치 분산 분석(ANOVA)은 두 개 이상의 집단 간에 평균의 차이가 있는지 여부를 테스트하는 통계적 방법입니다.\n",
    "##### 이원 배치 ANOVA는 두 개 이상의 집단과 두 개 이상의 요인을 갖는 데이터를 분석하는 데 사용할 수 있습니다. 이원 배치 ANOVA는 다음과 같은 경우에 사용됩니다."
   ]
  },
  {
   "cell_type": "code",
   "execution_count": 138,
   "id": "530bbc1b-43e5-4616-abb5-e698059841bf",
   "metadata": {},
   "outputs": [],
   "source": [
    "from statsmodels.formula.api import ols\n",
    "from statsmodels.stats.anova import anova_lm\n",
    "\n",
    "data = pd.DataFrame(data, columns=['head_size','fetus','observer'])\n",
    "formula = 'head_size ~ C(fetus)+C(observer)+C(fetus):C(observer)'\n",
    "lm = ols(formula, data).fit()\n",
    "print(anova_lm(lm))"
   ]
  },
  {
   "cell_type": "markdown",
   "id": "c1580655-acd5-4f08-b2a2-91544371a0df",
   "metadata": {},
   "source": [
    "## 반복없는 이원배치 분산분석\n",
    "##### 반복 없는 이원배치 분산분석은 두 개의 독립변수에 대한 데이터가 각각 반복 없이 각 집단에 할당되는 것을 기반으로 합니다.\n",
    "##### F = (SSB / DF_B) / (SSE / DF_E)\n",
    "##### SSB는 요인 A의 분산 / DF_B는 요인 A의 자유도  / SSE는 오차의 분산  / DF_E는 오차의 자유도"
   ]
  },
  {
   "cell_type": "markdown",
   "id": "4c941cf4-e860-440b-8898-186227b110a7",
   "metadata": {
    "tags": []
   },
   "source": [
    "## 반복있는 이원배치 분산분석\n",
    "##### 반면 반복 있는 이원배치 분산분석은 두 개의 독립변수에 대한 데이터가 각 집단에 반복적으로 할당되며, 이는 데이터가 두 집단에 모두 할당될 수 있음을 의미합니다.\n",
    "##### F = (SSB / DF_B) / (SSA / DF_A + SSE / DF_E)\n",
    "##### SSB는 요인 A의 분산 / DF_B는 요인 A의 자유도 / SSE는 오차의 분산 / DF_E는 오차의 자유도"
   ]
  },
  {
   "cell_type": "markdown",
   "id": "a9601514-0af2-4f1c-b1ab-99f778ba7a04",
   "metadata": {
    "jupyter": {
     "source_hidden": true
    },
    "tags": []
   },
   "source": [
    "###### ■ 제5장 머신러닝 프로세스\n",
    "###### 제1절 머신러닝의 의미\n",
    "###### 제2절 머신러닝 분석 프로세스 설명\n",
    "###### 제3절 성능평가 기법\n",
    "###### 제4절 머신러닝 분석 과정 빠르게 맛보기 - 회귀분석\n",
    "###### 제5절 머신러닝 분석 과정 빠르게 맛보기 - 분류분석\n",
    "\n",
    "###### ■ 제6장 머신러닝 - 지도학습\n",
    "###### 제1절 단순 선형 회귀(Simple Linear Regression Model)\n",
    "###### 제2절 다항 회귀(Polynomial Regression)\n",
    "###### 제3절 다중 회귀(Multiple Regression)\n",
    "###### 제4절 로지스틱 회귀(Logistic Regression)\n",
    "###### 제5절 서포트 벡터 머신(Support Vector Machine)\n",
    "###### 제6절 K-최근접 이웃(KNN)\n",
    "###### 제7절 의사결정나무(Decision Tree)\n",
    "###### 제8절 앙상블(Ensemble)\n",
    "###### 제9절 나이브베이즈(Naive Bayes) 분류\n",
    "\n",
    "###### ■ 제7장 통계분석\n",
    "###### 제1절 통계분석 프로세스\n",
    "###### 제2절 t-test\n",
    "###### 제3절 분산분석(ANOVA)\n",
    "###### 제4절 교차분석(카이제곱 검정)\n",
    "###### 제5절 선형 회귀분석\n",
    "###### 제6절 군집분석\n",
    "###### 제7절 연관분석\n",
    "###### 제8절 시계열분석"
   ]
  },
  {
   "cell_type": "code",
   "execution_count": null,
   "id": "bdf05c00-0192-4331-93d2-d278750d11fc",
   "metadata": {},
   "outputs": [],
   "source": []
  }
 ],
 "metadata": {
  "kernelspec": {
   "display_name": "Python 3 (ipykernel)",
   "language": "python",
   "name": "python3"
  },
  "language_info": {
   "codemirror_mode": {
    "name": "ipython",
    "version": 3
   },
   "file_extension": ".py",
   "mimetype": "text/x-python",
   "name": "python",
   "nbconvert_exporter": "python",
   "pygments_lexer": "ipython3",
   "version": "3.8.15"
  }
 },
 "nbformat": 4,
 "nbformat_minor": 5
}
